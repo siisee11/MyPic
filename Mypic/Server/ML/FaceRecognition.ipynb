{
 "cells": [
  {
   "cell_type": "code",
   "execution_count": 2,
   "metadata": {},
   "outputs": [],
   "source": [
    "import cv2\n",
    "import sys\n",
    "import numpy as np\n",
    "import datetime\n",
    "import os\n",
    "import glob\n",
    "import mxnet as mx\n",
    "from mxnet import gluon\n",
    "from skimage import transform as trans\n",
    "from easydict import EasyDict as edict\n",
    "from matplotlib import pyplot as plt\n",
    "import warnings\n",
    "\n",
    "from retinaface import RetinaFace"
   ]
  },
  {
   "cell_type": "code",
   "execution_count": 3,
   "metadata": {},
   "outputs": [],
   "source": [
    "detector_gpuid = 2\n",
    "embedder_gpuid = 3"
   ]
  },
  {
   "cell_type": "code",
   "execution_count": 10,
   "metadata": {},
   "outputs": [
    {
     "name": "stdout",
     "output_type": "stream",
     "text": [
      "[32, 16, 8] {'32': {'SCALES': (32, 16), 'BASE_SIZE': 16, 'RATIOS': (1.0,), 'ALLOWED_BORDER': 9999}, '16': {'SCALES': (8, 4), 'BASE_SIZE': 16, 'RATIOS': (1.0,), 'ALLOWED_BORDER': 9999}, '8': {'SCALES': (2, 1), 'BASE_SIZE': 16, 'RATIOS': (1.0,), 'ALLOWED_BORDER': 9999}}\n",
      "means [0. 0. 0.]\n",
      "use_landmarks True\n",
      "cascade 0\n",
      "sym size: 9\n"
     ]
    }
   ],
   "source": [
    "detector = RetinaFace('./model/R50', 0, detector_gpuid, 'net3')\n",
    "\n",
    "ctx = mx.gpu(embedder_gpuid)\n",
    "\n",
    "with warnings.catch_warnings():\n",
    "    warnings.simplefilter(\"ignore\")\n",
    "    embedder = gluon.nn.SymbolBlock.imports(\"./model/model-r100-ii/model-symbol.json\", ['data'], \"./model/model-r100-ii/model-0000.params\", ctx=ctx)"
   ]
  },
  {
   "cell_type": "markdown",
   "metadata": {},
   "source": [
    "## Detection & Embedding 관련 함수들"
   ]
  },
  {
   "cell_type": "code",
   "execution_count": 11,
   "metadata": {},
   "outputs": [],
   "source": [
    "# Todo: make batch version? Maybe it's hard because image sizes can vary?\n",
    "def detect_faces(detector, image, scales=[1024, 1980], thresh=0.8, flip=False):\n",
    "    # Validate image array\n",
    "    assert type(image) is np.ndarray\n",
    "    assert len(image.shape) == 3  #  W x H x BGR\n",
    "    assert image.shape[2] == 3  # BGR\n",
    "    \n",
    "    im_shape = image.shape\n",
    "    target_size = scales[0]\n",
    "    max_size = scales[1]\n",
    "    im_size_min = np.min(im_shape[0:2])\n",
    "    im_size_max = np.max(im_shape[0:2])\n",
    "    #im_scale = 1.0   # Use This if you don't want to scale the original image\n",
    "\n",
    "    # if im_size_min>target_size or im_size_max>max_size:\n",
    "    im_scale = float(target_size) / float(im_size_min)\n",
    "    # prevent bigger axis from being more than max_size:\n",
    "    if np.round(im_scale * im_size_max) > max_size:\n",
    "        im_scale = float(max_size) / float(im_size_max)\n",
    "        \n",
    "    im_scales = [im_scale]\n",
    "    \n",
    "    boxes, landmarks = detector.detect(image, thresh, scales=im_scales, do_flip=flip)\n",
    "    \n",
    "    return boxes, landmarks"
   ]
  },
  {
   "cell_type": "code",
   "execution_count": 12,
   "metadata": {},
   "outputs": [],
   "source": [
    "def resize_and_align_face(image, box, landmark):\n",
    "    if not hasattr(resize_and_align_face, \"_align_src\"):\n",
    "        resize_and_align_face._align_src = np.array([\n",
    "                [38.2946, 51.6963],\n",
    "                [73.5318, 51.5014],\n",
    "                [56.0252, 71.7366],\n",
    "                [41.5493, 92.3655],\n",
    "                [70.7299, 92.2041]], dtype=np.float32)\n",
    "        \n",
    "    \n",
    "    box = box.astype(np.int)\n",
    "    resized_face = cv2.resize(image[box[1]:box[3], box[0]:box[2]], (112, 112))\n",
    "    \n",
    "    box_width = box[2] - box[0]\n",
    "    box_height = box[3] - box[1]\n",
    "    \n",
    "    align_dst = landmark\n",
    "    align_dst[:, 0] -= box[0]\n",
    "    align_dst[:, 1] -= box[1]\n",
    "    \n",
    "    align_dst[:, 0] = align_dst[:, 0] / (box_width / 112.0)\n",
    "    align_dst[:, 1] = align_dst[:, 1] / (box_height / 112.0)\n",
    "    \n",
    "    tform = trans.SimilarityTransform()\n",
    "    tform.estimate(align_dst, resize_and_align_face._align_src)\n",
    "    M = tform.params[0:2,:]\n",
    "    \n",
    "    aligned_face = cv2.warpAffine(resized_face, M, (112, 112), borderValue = 0.0)\n",
    "    \n",
    "    return aligned_face"
   ]
  },
  {
   "cell_type": "code",
   "execution_count": 13,
   "metadata": {},
   "outputs": [],
   "source": [
    "def embed_face(embedder, ctx, images, batch_size=64):\n",
    "    for image in images:\n",
    "        assert image.shape == (112, 112, 3)\n",
    "    \n",
    "    batched_images = []\n",
    "    for idx in range(0, len(image), batch_size):\n",
    "        batched_images.append(images[idx:idx + batch_size])\n",
    "    \n",
    "    embeddings = []\n",
    "    for batch in batched_images:\n",
    "        if not batch:\n",
    "            continue\n",
    "        input_array = mx.nd.array(batch, ctx=ctx).transpose((0, 3, 1, 2))\n",
    "        embeddings += list(embedder.forward(input_array).asnumpy())\n",
    "    \n",
    "    return embeddings"
   ]
  },
  {
   "cell_type": "code",
   "execution_count": 14,
   "metadata": {},
   "outputs": [],
   "source": [
    "def box_to_str(box):\n",
    "    return f\"x{box[1]},{box[3]}_y{box[0]},{box[2]}\""
   ]
  },
  {
   "cell_type": "markdown",
   "metadata": {},
   "source": [
    "## 예제 코드"
   ]
  },
  {
   "cell_type": "code",
   "execution_count": 29,
   "metadata": {},
   "outputs": [
    {
     "name": "stdout",
     "output_type": "stream",
     "text": [
      "wantyouring32.jpg\n",
      "wantyouring30.jpg\n",
      "wantyouring31.jpg\n",
      "CPU times: user 2.58 s, sys: 3.51 s, total: 6.09 s\n",
      "Wall time: 8.44 s\n"
     ]
    }
   ],
   "source": [
    "%%time\n",
    "folder_name = 'test'\n",
    "for root, dirs, files in os.walk('.//{}//'.format(folder_name)):\n",
    "    for fname in files:\n",
    "        print(fname)\n",
    "        if fname=='.DS_Store':\n",
    "            continue\n",
    "        img_link = \".//{}//{}\".format(folder_name,fname)\n",
    "        img = cv2.imread(img_link)\n",
    "\n",
    "        boxes, landmarks = detect_faces(detector, img)\n",
    "\n",
    "        aligned_faces = []\n",
    "        for box, landmark in zip(boxes, landmarks):\n",
    "            aligned_faces.append(resize_and_align_face(img, box, landmark))\n",
    "\n",
    "        embeddings = embed_face(embedder, ctx, aligned_faces)\n",
    "\n",
    "        document = edict()\n",
    "        for box, embedding in zip(boxes, embeddings):\n",
    "            document[f\"{img_link}__\" + box_to_str(box.astype(np.int))] = embedding\n",
    "\n",
    "#         break  # 이거 주석처리하고 여러개 돌리는 성능 확인. 처음에는 오래 걸림."
   ]
  },
  {
   "cell_type": "code",
   "execution_count": 24,
   "metadata": {},
   "outputs": [
    {
     "data": {
      "text/plain": [
       "dict_keys(['./testData/t1.jpg__x820,1052_y2298,2512', './testData/t1.jpg__x1303,1657_y2363,2637', './testData/t1.jpg__x523,858_y129,428', './testData/t1.jpg__x642,844_y545,721', './testData/t1.jpg__x579,755_y1671,1814', './testData/t1.jpg__x1005,1873_y247,913'])"
      ]
     },
     "execution_count": 24,
     "metadata": {},
     "output_type": "execute_result"
    }
   ],
   "source": [
    "document.keys()"
   ]
  },
  {
   "cell_type": "markdown",
   "metadata": {},
   "source": [
    "## 임베딩 벡터들 한번에 거리 계산하기"
   ]
  },
  {
   "cell_type": "code",
   "execution_count": 25,
   "metadata": {},
   "outputs": [],
   "source": [
    "def get_angular_distances(embs1:np.ndarray, embs2:np.ndarray):\n",
    "    if type(embs1) is list: embs1 = np.array(embs1)\n",
    "    elif type(embs1) is mx.ndarray.ndarray.NDArray: embs1 = embs1.asnumpy()\n",
    "    if type(embs2) is list: embs2 = np.array(embs2)\n",
    "    elif type(embs2) is mx.ndarray.ndarray.NDArray: embs2 = embs2.asnumpy()\n",
    "            \n",
    "    assert len(embs1.shape) == 2 and embs1.shape[1] == 512\n",
    "    assert len(embs2.shape) == 2 and embs2.shape[1] == 512\n",
    "    \n",
    "    dots = np.dot(embs1, embs2.transpose())\n",
    "    norms1 = np.linalg.norm(embs1, axis=1).reshape((embs1.shape[0], 1))\n",
    "    norms2 = np.linalg.norm(embs2, axis=1).reshape((1, embs2.shape[0]))\n",
    "    cos_angle = np.clip(dots / norms1 / norms2, -1.0, 1.0)\n",
    "    angle = np.arccos(cos_angle)\n",
    "    \n",
    "    return angle"
   ]
  },
  {
   "cell_type": "code",
   "execution_count": 26,
   "metadata": {},
   "outputs": [],
   "source": [
    "embs1 = np.array(embeddings)\n",
    "embs2 = np.array(embeddings)"
   ]
  },
  {
   "cell_type": "code",
   "execution_count": 27,
   "metadata": {},
   "outputs": [
    {
     "data": {
      "text/plain": [
       "((6, 512), (6, 512))"
      ]
     },
     "execution_count": 27,
     "metadata": {},
     "output_type": "execute_result"
    }
   ],
   "source": [
    "embs1.shape, embs2.shape"
   ]
  },
  {
   "cell_type": "code",
   "execution_count": 20,
   "metadata": {},
   "outputs": [
    {
     "data": {
      "text/plain": [
       "array([[5.9801998e-04, 1.4638932e+00, 1.5316079e+00, 1.4169375e+00,\n",
       "        1.5241771e+00, 1.5973431e+00],\n",
       "       [1.4638932e+00, 0.0000000e+00, 1.6123116e+00, 1.5349239e+00,\n",
       "        1.3695304e+00, 1.5483751e+00],\n",
       "       [1.5316079e+00, 1.6123116e+00, 5.9801998e-04, 1.6285679e+00,\n",
       "        1.3571213e+00, 1.6660100e+00],\n",
       "       [1.4169376e+00, 1.5349239e+00, 1.6285679e+00, 3.4526698e-04,\n",
       "        1.6413255e+00, 1.3310080e+00],\n",
       "       [1.5241771e+00, 1.3695304e+00, 1.3571213e+00, 1.6413255e+00,\n",
       "        0.0000000e+00, 1.6567705e+00],\n",
       "       [1.5973431e+00, 1.5483751e+00, 1.6660100e+00, 1.3310080e+00,\n",
       "        1.6567705e+00, 0.0000000e+00]], dtype=float32)"
      ]
     },
     "execution_count": 20,
     "metadata": {},
     "output_type": "execute_result"
    }
   ],
   "source": [
    "distances = get_angular_distances(embs1, embs2)\n",
    "distances"
   ]
  },
  {
   "cell_type": "markdown",
   "metadata": {},
   "source": [
    "### 기존 방식과 비교\n",
    "1쌍 계산에 ~0.3 ms, 36쌍 계산에 ~1 ms, 5776쌍 계산에 ~2 ms"
   ]
  },
  {
   "cell_type": "code",
   "execution_count": 17,
   "metadata": {},
   "outputs": [],
   "source": [
    "# 기존 방식\n",
    "def get_angle_between_embeddings(emb1, emb2):\n",
    "    return np.arccos(np.dot(emb1, emb2) / np.linalg.norm(emb1) / np.linalg.norm(emb2))"
   ]
  },
  {
   "cell_type": "code",
   "execution_count": 18,
   "metadata": {},
   "outputs": [
    {
     "name": "stdout",
     "output_type": "stream",
     "text": [
      "CPU times: user 212 µs, sys: 163 µs, total: 375 µs\n",
      "Wall time: 280 µs\n"
     ]
    },
    {
     "data": {
      "text/plain": [
       "1.6285679"
      ]
     },
     "execution_count": 18,
     "metadata": {},
     "output_type": "execute_result"
    }
   ],
   "source": [
    "%%time\n",
    "get_angle_between_embeddings(embs1[3], embs2[2])"
   ]
  },
  {
   "cell_type": "code",
   "execution_count": 19,
   "metadata": {},
   "outputs": [
    {
     "name": "stdout",
     "output_type": "stream",
     "text": [
      "CPU times: user 456 µs, sys: 351 µs, total: 807 µs\n",
      "Wall time: 637 µs\n"
     ]
    },
    {
     "data": {
      "text/plain": [
       "1.6285679"
      ]
     },
     "execution_count": 19,
     "metadata": {},
     "output_type": "execute_result"
    }
   ],
   "source": [
    "%%time\n",
    "get_angular_distances(embs1, embs2)[3][2]"
   ]
  },
  {
   "cell_type": "markdown",
   "metadata": {},
   "source": [
    "## 임베딩 거리를 이용한 실제 분류 과정"
   ]
  },
  {
   "cell_type": "code",
   "execution_count": 74,
   "metadata": {},
   "outputs": [],
   "source": [
    "def get_pairs_from_distance(distances, threshold=1.1):\n",
    "    distances = distances + 10 * (np.triu(np.ones_like(distances), -1) == 0)\n",
    "    print(distances)\n",
    "    return np.argwhere(distances < threshold)"
   ]
  },
  {
   "cell_type": "code",
   "execution_count": 73,
   "metadata": {},
   "outputs": [
    {
     "data": {
      "text/plain": [
       "array([[1., 1., 1., 1., 1., 1., 1., 1., 1., 1.],\n",
       "       [1., 1., 1., 1., 1., 1., 1., 1., 1., 1.],\n",
       "       [0., 1., 1., 1., 1., 1., 1., 1., 1., 1.],\n",
       "       [0., 0., 1., 1., 1., 1., 1., 1., 1., 1.],\n",
       "       [0., 0., 0., 1., 1., 1., 1., 1., 1., 1.],\n",
       "       [0., 0., 0., 0., 1., 1., 1., 1., 1., 1.],\n",
       "       [0., 0., 0., 0., 0., 1., 1., 1., 1., 1.],\n",
       "       [0., 0., 0., 0., 0., 0., 1., 1., 1., 1.],\n",
       "       [0., 0., 0., 0., 0., 0., 0., 1., 1., 1.],\n",
       "       [0., 0., 0., 0., 0., 0., 0., 0., 1., 1.]])"
      ]
     },
     "execution_count": 73,
     "metadata": {},
     "output_type": "execute_result"
    }
   ],
   "source": [
    "np.triu(np.ones((10, 10)), -1)"
   ]
  },
  {
   "cell_type": "code",
   "execution_count": 23,
   "metadata": {},
   "outputs": [
    {
     "data": {
      "text/plain": [
       "array([], shape=(0, 2), dtype=int64)"
      ]
     },
     "execution_count": 23,
     "metadata": {},
     "output_type": "execute_result"
    }
   ],
   "source": [
    "get_pairs_from_distance(distances, threshold=1.0)"
   ]
  },
  {
   "cell_type": "code",
   "execution_count": 28,
   "metadata": {},
   "outputs": [
    {
     "data": {
      "text/plain": [
       "(0, 0)"
      ]
     },
     "execution_count": 28,
     "metadata": {},
     "output_type": "execute_result"
    }
   ],
   "source": [
    "# threshold 값을 낮추면 Precision이 대부분의 경우 올라가고, Recall이 확실히 줄어듬.\n",
    "len(get_pairs_from_distance(distances, threshold=1.0)), len(get_pairs_from_distance(distances, threshold=1.2))"
   ]
  },
  {
   "cell_type": "code",
   "execution_count": 31,
   "metadata": {
    "scrolled": true
   },
   "outputs": [],
   "source": [
    "for pair in get_pairs_from_distance(distances, threshold=1.0):\n",
    "    box0 = boxes[pair[0]]\n",
    "    box1 = boxes[pair[1]]\n",
    "    \n",
    "    print(f\"Angular Distance: {distances[pair[0]][pair[1]]}\")\n",
    "    \n",
    "    plt.subplot(1, 2, 1)\n",
    "    plt.imshow(aligned_faces[pair[0]])\n",
    "    plt.subplot(1, 2, 2)\n",
    "    plt.imshow(aligned_faces[pair[1]])\n",
    "    plt.show()"
   ]
  },
  {
   "cell_type": "markdown",
   "metadata": {},
   "source": [
    "## 디텍션 결과 확인 유틸리티"
   ]
  },
  {
   "cell_type": "code",
   "execution_count": 21,
   "metadata": {},
   "outputs": [],
   "source": [
    "def visualize_detection(image, boxes, landmarks):\n",
    "    for box, landmark in zip(boxes, landmarks):\n",
    "        # print('score', box[4])\n",
    "        box = box.astype(np.int)\n",
    "        #color = (255,0,0)\n",
    "        color = (0,0,255)\n",
    "        cv2.rectangle(image, (box[0], box[1]), (box[2], box[3]), color, 2)\n",
    "        \n",
    "        landmark = landmark.astype(np.int)\n",
    "        for l in range(landmark.shape[0]):\n",
    "            color = (0,0,255)\n",
    "            if l==0 or l==3:\n",
    "                color = (0,255,0)\n",
    "            cv2.circle(image, (landmark[l][0], landmark[l][1]), 1, color, 2)\n",
    "    \n",
    "    plt.figure(figsize=(10, 10))\n",
    "    plt.imshow(image[...,::-1])\n",
    "    plt.show()\n",
    "    cv2.imwrite('./detection_result.jpg', image)"
   ]
  },
  {
   "cell_type": "code",
   "execution_count": 22,
   "metadata": {
    "scrolled": false
   },
   "outputs": [
    {
     "ename": "AssertionError",
     "evalue": "",
     "output_type": "error",
     "traceback": [
      "\u001b[0;31m---------------------------------------------------------------------------\u001b[0m",
      "\u001b[0;31mAssertionError\u001b[0m                            Traceback (most recent call last)",
      "\u001b[0;32m<ipython-input-22-a6ae6040adc7>\u001b[0m in \u001b[0;36m<module>\u001b[0;34m\u001b[0m\n\u001b[1;32m      3\u001b[0m \u001b[0;34m\u001b[0m\u001b[0m\n\u001b[1;32m      4\u001b[0m \u001b[0mimg\u001b[0m \u001b[0;34m=\u001b[0m \u001b[0mcv2\u001b[0m\u001b[0;34m.\u001b[0m\u001b[0mimread\u001b[0m\u001b[0;34m(\u001b[0m\u001b[0;34mf\"{file_name}.{file_ext}\"\u001b[0m\u001b[0;34m)\u001b[0m\u001b[0;34m\u001b[0m\u001b[0;34m\u001b[0m\u001b[0m\n\u001b[0;32m----> 5\u001b[0;31m \u001b[0mboxes\u001b[0m\u001b[0;34m,\u001b[0m \u001b[0mlandmarks\u001b[0m \u001b[0;34m=\u001b[0m \u001b[0mdetect_faces\u001b[0m\u001b[0;34m(\u001b[0m\u001b[0mdetector\u001b[0m\u001b[0;34m,\u001b[0m \u001b[0mimg\u001b[0m\u001b[0;34m)\u001b[0m\u001b[0;34m\u001b[0m\u001b[0;34m\u001b[0m\u001b[0m\n\u001b[0m\u001b[1;32m      6\u001b[0m \u001b[0;34m\u001b[0m\u001b[0m\n\u001b[1;32m      7\u001b[0m \u001b[0mvisualize_detection\u001b[0m\u001b[0;34m(\u001b[0m\u001b[0mimg\u001b[0m\u001b[0;34m,\u001b[0m \u001b[0mboxes\u001b[0m\u001b[0;34m,\u001b[0m \u001b[0mlandmarks\u001b[0m\u001b[0;34m)\u001b[0m\u001b[0;34m\u001b[0m\u001b[0;34m\u001b[0m\u001b[0m\n",
      "\u001b[0;32m<ipython-input-11-6424f2686c47>\u001b[0m in \u001b[0;36mdetect_faces\u001b[0;34m(detector, image, scales, thresh, flip)\u001b[0m\n\u001b[1;32m      2\u001b[0m \u001b[0;32mdef\u001b[0m \u001b[0mdetect_faces\u001b[0m\u001b[0;34m(\u001b[0m\u001b[0mdetector\u001b[0m\u001b[0;34m,\u001b[0m \u001b[0mimage\u001b[0m\u001b[0;34m,\u001b[0m \u001b[0mscales\u001b[0m\u001b[0;34m=\u001b[0m\u001b[0;34m[\u001b[0m\u001b[0;36m1024\u001b[0m\u001b[0;34m,\u001b[0m \u001b[0;36m1980\u001b[0m\u001b[0;34m]\u001b[0m\u001b[0;34m,\u001b[0m \u001b[0mthresh\u001b[0m\u001b[0;34m=\u001b[0m\u001b[0;36m0.8\u001b[0m\u001b[0;34m,\u001b[0m \u001b[0mflip\u001b[0m\u001b[0;34m=\u001b[0m\u001b[0;32mFalse\u001b[0m\u001b[0;34m)\u001b[0m\u001b[0;34m:\u001b[0m\u001b[0;34m\u001b[0m\u001b[0;34m\u001b[0m\u001b[0m\n\u001b[1;32m      3\u001b[0m     \u001b[0;31m# Validate image array\u001b[0m\u001b[0;34m\u001b[0m\u001b[0;34m\u001b[0m\u001b[0;34m\u001b[0m\u001b[0m\n\u001b[0;32m----> 4\u001b[0;31m     \u001b[0;32massert\u001b[0m \u001b[0mtype\u001b[0m\u001b[0;34m(\u001b[0m\u001b[0mimage\u001b[0m\u001b[0;34m)\u001b[0m \u001b[0;32mis\u001b[0m \u001b[0mnp\u001b[0m\u001b[0;34m.\u001b[0m\u001b[0mndarray\u001b[0m\u001b[0;34m\u001b[0m\u001b[0;34m\u001b[0m\u001b[0m\n\u001b[0m\u001b[1;32m      5\u001b[0m     \u001b[0;32massert\u001b[0m \u001b[0mlen\u001b[0m\u001b[0;34m(\u001b[0m\u001b[0mimage\u001b[0m\u001b[0;34m.\u001b[0m\u001b[0mshape\u001b[0m\u001b[0;34m)\u001b[0m \u001b[0;34m==\u001b[0m \u001b[0;36m3\u001b[0m  \u001b[0;31m#  W x H x BGR\u001b[0m\u001b[0;34m\u001b[0m\u001b[0;34m\u001b[0m\u001b[0m\n\u001b[1;32m      6\u001b[0m     \u001b[0;32massert\u001b[0m \u001b[0mimage\u001b[0m\u001b[0;34m.\u001b[0m\u001b[0mshape\u001b[0m\u001b[0;34m[\u001b[0m\u001b[0;36m2\u001b[0m\u001b[0;34m]\u001b[0m \u001b[0;34m==\u001b[0m \u001b[0;36m3\u001b[0m  \u001b[0;31m# BGR\u001b[0m\u001b[0;34m\u001b[0m\u001b[0;34m\u001b[0m\u001b[0m\n",
      "\u001b[0;31mAssertionError\u001b[0m: "
     ]
    }
   ],
   "source": [
    "file_name = 'jy1'\n",
    "file_ext = 'jpg'\n",
    "\n",
    "img = cv2.imread(f\"{file_name}.{file_ext}\")\n",
    "boxes, landmarks = detect_faces(detector, img)\n",
    "\n",
    "visualize_detection(img, boxes, landmarks)"
   ]
  },
  {
   "cell_type": "markdown",
   "metadata": {},
   "source": [
    "# 장난감\n",
    "file1과 file2에 원하는 이미지 경로를 넣으세요! 각 사진에서 비슷한 얼굴들을 뽑아줍니다!"
   ]
  },
  {
   "cell_type": "code",
   "execution_count": 28,
   "metadata": {},
   "outputs": [],
   "source": [
    "file1 = \"t1.jpg\"\n",
    "file2 = \"jy1.jpg\"\n",
    "thresh = 1.1\n",
    "\n",
    "img1 = cv2.imread(file1)\n",
    "img2 = cv2.imread(file2)"
   ]
  },
  {
   "cell_type": "code",
   "execution_count": 31,
   "metadata": {},
   "outputs": [
    {
     "name": "stdout",
     "output_type": "stream",
     "text": [
      "CPU times: user 2.47 s, sys: 4.22 s, total: 6.7 s\n",
      "Wall time: 13.3 s\n"
     ]
    }
   ],
   "source": [
    "%%time\n",
    "# Detecting & Embedding\n",
    "boxes1, landmarks1 = detect_faces(detector, img1, flip=True)\n",
    "\n",
    "aligned_faces1 = []\n",
    "for box, landmark in zip(boxes1, landmarks1):\n",
    "    aligned_faces1.append(resize_and_align_face(img1, box, landmark))\n",
    "\n",
    "embeddings1 = embed_face(embedder, ctx, aligned_faces1)\n",
    "embs1 = np.array(embeddings1)\n",
    "\n",
    "\n",
    "boxes2, landmarks2 = detect_faces(detector, img2)\n",
    "\n",
    "aligned_faces2 = []\n",
    "for box, landmark in zip(boxes2, landmarks2):\n",
    "    aligned_faces2.append(resize_and_align_face(img2, box, landmark))\n",
    "\n",
    "embeddings2 = embed_face(embedder, ctx, aligned_faces2)\n",
    "embs2 = np.array(embeddings2)"
   ]
  },
  {
   "cell_type": "code",
   "execution_count": 66,
   "metadata": {},
   "outputs": [
    {
     "name": "stdout",
     "output_type": "stream",
     "text": [
      "[[1.6299391]\n",
      " [1.5081644]\n",
      " [1.5604315]\n",
      " [1.3783413]\n",
      " [1.5429703]\n",
      " [0.8559614]]\n",
      "[[1.6299391]\n",
      " [1.5081644]\n",
      " [1.5604315]\n",
      " [1.3783413]\n",
      " [1.5429703]\n",
      " [0.8559614]]\n"
     ]
    },
    {
     "data": {
      "image/png": "[encoded data removed]",
      "text/plain": [
       "<Figure size 432x288 with 2 Axes>"
      ]
     },
     "metadata": {
      "needs_background": "light"
     },
     "output_type": "display_data"
    }
   ],
   "source": [
    "# Result\n",
    "distances = get_angular_distances(embs1, embs2)\n",
    "print(distances)\n",
    "\n",
    "for pair in get_pairs_from_distance(distances, threshold=thresh):\n",
    "    box1 = boxes1[pair[0]]\n",
    "    box2 = boxes2[pair[1]]\n",
    "    \n",
    "    #print()\n",
    "    plt.subplot(1, 2, 1)\n",
    "    plt.imshow(aligned_faces1[pair[0]][..., ::-1])\n",
    "    plt.subplot(1, 2, 2)\n",
    "    plt.imshow(aligned_faces2[pair[1]][..., ::-1])\n",
    "    plt.title(f\"Angular Distance: {distances[pair[0]][pair[1]] / np.pi:.2f} π rad.\")\n",
    "    plt.show()"
   ]
  },
  {
   "cell_type": "code",
   "execution_count": 49,
   "metadata": {},
   "outputs": [
    {
     "data": {
      "text/plain": [
       "'1.17.4'"
      ]
     },
     "execution_count": 49,
     "metadata": {},
     "output_type": "execute_result"
    }
   ],
   "source": [
    "np.__version__"
   ]
  }
 ],
 "metadata": {
  "kernelspec": {
   "display_name": "Python [conda env:.conda-mxnet_p36] *",
   "language": "python",
   "name": "conda-env-.conda-mxnet_p36-py"
  },
  "language_info": {
   "codemirror_mode": {
    "name": "ipython",
    "version": 3
   },
   "file_extension": ".py",
   "mimetype": "text/x-python",
   "name": "python",
   "nbconvert_exporter": "python",
   "pygments_lexer": "ipython3",
   "version": "3.6.9"
  }
 },
 "nbformat": 4,
 "nbformat_minor": 4
}
